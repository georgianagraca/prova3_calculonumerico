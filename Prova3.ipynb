{
 "cells": [
  {
   "cell_type": "markdown",
   "metadata": {},
   "source": [
    "# Resolução de Exercício de Avaliação \n",
    "\n",
    "Este notebook contém a resolução de três questões usando métodos numéricos em Python, abordando os seguintes tópicos:\n",
    "\n",
    "1. Método de Euler e Runge-Kutta de 3ª ordem.\n",
    "2. Movimento de um projétil com resistência do ar.\n",
    "3. Crescimento populacional usando a equação logística."
   ]
  },
  {
   "cell_type": "markdown",
   "metadata": {},
   "source": [
    "## Importação de Bibliotecas"
   ]
  },
  {
   "cell_type": "code",
   "execution_count": 12,
   "metadata": {},
   "outputs": [],
   "source": [
    "import math\n",
    "import numpy as np"
   ]
  },
  {
   "cell_type": "markdown",
   "metadata": {},
   "source": [
    "### Questão 1: Método de Euler e Runge-Kutta de 3ª Ordem\n",
    "Calcular o valor de y(1) usando os métodos de Euler e Runge-Kutta de 3ª ordem.\n",
    "E calcular o erro absoluto erro absoluto cometido na aproximação de y (1) usando os dois métodos. \n"
   ]
  },
  {
   "cell_type": "markdown",
   "metadata": {},
   "source": [
    "#### Código para Métodos de Euler e Runge-Kutta"
   ]
  },
  {
   "cell_type": "code",
   "execution_count": 13,
   "metadata": {},
   "outputs": [],
   "source": [
    "# Definindo a função diferencial de acordo com o PVI\n",
    "def f(x, y):\n",
    "    return (y**2 - 2*x) / y"
   ]
  },
  {
   "cell_type": "code",
   "execution_count": 14,
   "metadata": {},
   "outputs": [],
   "source": [
    "# Método de Euler\n",
    "def euler_method(f, x0, y0, h, n):\n",
    "    x, y = x0, y0\n",
    "    for _ in range(n):\n",
    "        y += h * f(x, y)\n",
    "        x += h\n",
    "    return y"
   ]
  },
  {
   "cell_type": "code",
   "execution_count": 15,
   "metadata": {},
   "outputs": [],
   "source": [
    "# Método de Runge-Kutta de 3ª ordem\n",
    "def runge_kutta_3rd_order(f, x0, y0, h, n):\n",
    "    x, y = x0, y0\n",
    "    for _ in range(n):\n",
    "        k1 = h * f(x, y)\n",
    "        k2 = h * f(x + h / 2, y + k1 / 2)\n",
    "        k3 = h * f(x + h, y - k1 + 2 * k2)\n",
    "        y += (k1 + 4 * k2 + k3) / 6\n",
    "        x += h\n",
    "    return y\n"
   ]
  },
  {
   "cell_type": "code",
   "execution_count": 16,
   "metadata": {},
   "outputs": [],
   "source": [
    "# Parâmetros iniciais\n",
    "x0 = 0\n",
    "y0 = 1\n",
    "h = 0.2\n",
    "x_final = 1\n",
    "n = int((x_final - x0) / h)"
   ]
  },
  {
   "cell_type": "code",
   "execution_count": 17,
   "metadata": {},
   "outputs": [],
   "source": [
    "# Solução usando Método de Euler\n",
    "y_euler = euler_method(f, x0, y0, h, n)"
   ]
  },
  {
   "cell_type": "code",
   "execution_count": 18,
   "metadata": {},
   "outputs": [],
   "source": [
    "# Solução usando Runge-Kutta de 3ª ordem\n",
    "y_rk3 = runge_kutta_3rd_order(f, x0, y0, h, n)"
   ]
  },
  {
   "cell_type": "code",
   "execution_count": 19,
   "metadata": {},
   "outputs": [],
   "source": [
    "# Solução exata para y(1)\n",
    "y_exact = math.sqrt(2 * 1 + 1)"
   ]
  },
  {
   "cell_type": "code",
   "execution_count": 20,
   "metadata": {},
   "outputs": [
    {
     "name": "stdout",
     "output_type": "stream",
     "text": [
      "Valor de y(1) usando Método de Euler: 1.8269481804182377\n",
      "Valor de y(1) usando Runge-Kutta de 3ª ordem: 1.7324718336701308\n",
      "Solução exata de y(1): 1.7320508075688772\n",
      "Erro absoluto no Método de Euler: 0.0948973728493605\n",
      "Erro absoluto no Método de Runge-Kutta de 3ª ordem: 0.0004210261012536076\n"
     ]
    }
   ],
   "source": [
    "# Calculando o erro absoluto\n",
    "erro_euler = abs(y_exact - y_euler)\n",
    "erro_rk3 = abs(y_exact - y_rk3)\n",
    "\n",
    "print(f\"Valor de y(1) usando Método de Euler: {y_euler}\")\n",
    "print(f\"Valor de y(1) usando Runge-Kutta de 3ª ordem: {y_rk3}\")\n",
    "print(f\"Solução exata de y(1): {y_exact}\")\n",
    "print(f\"Erro absoluto no Método de Euler: {erro_euler}\")\n",
    "print(f\"Erro absoluto no Método de Runge-Kutta de 3ª ordem: {erro_rk3}\")"
   ]
  },
  {
   "cell_type": "markdown",
   "metadata": {},
   "source": [
    "### Questão 2: Movimento de um projétil\n",
    "Calcular a velocidade de um projétil considerando a resistência do ar e encontrar o tempo no qual o projétil começa a cair."
   ]
  },
  {
   "cell_type": "markdown",
   "metadata": {},
   "source": [
    "#### Código para Simulação do Movimento"
   ]
  },
  {
   "cell_type": "code",
   "execution_count": 21,
   "metadata": {},
   "outputs": [],
   "source": [
    "def projectile_velocity(m, g, k, v0, dt, t_final):\n",
    "    t = 0\n",
    "    v = v0\n",
    "    while t <= t_final:\n",
    "        # dv é calculado de acordo com a equação diferencial dada\n",
    "        dv = (g - (k/m) * v * abs(v)) * dt\n",
    "        v += dv ## DÚVIDA SE É PRA SOMAR OU SUBTRAIR\n",
    "        t += dt\n",
    "        print(f\"Tempo: {t:.1f} s, Velocidade: {v:.4f} m/s\")\n",
    "        if v <= 0: ## DÚVIDA SE É < OU <=\n",
    "            print(f\"O projétil começa a cair após {t:.2f} segundos.\")\n",
    "            break"
   ]
  },
  {
   "cell_type": "code",
   "execution_count": 22,
   "metadata": {},
   "outputs": [
    {
     "name": "stdout",
     "output_type": "stream",
     "text": [
      "Tempo: 0.1 s, Velocidade: 6.9036 m/s\n",
      "Tempo: 0.2 s, Velocidade: 5.8370 m/s\n",
      "Tempo: 0.3 s, Velocidade: 4.7950 m/s\n",
      "Tempo: 0.4 s, Velocidade: 3.7732 m/s\n",
      "Tempo: 0.5 s, Velocidade: 2.7673 m/s\n",
      "Tempo: 0.6 s, Velocidade: 1.7734 m/s\n",
      "Tempo: 0.7 s, Velocidade: 0.7877 m/s\n",
      "Tempo: 0.8 s, Velocidade: -0.1934 m/s\n",
      "O projétil começa a cair após 0.80 segundos.\n"
     ]
    }
   ],
   "source": [
    "# Parâmetros\n",
    "m = 0.11  # massa do projétil em kg\n",
    "g = -9.8  # aceleração da gravidade em m/s^2\n",
    "k = 0.002  # coeficiente de resistência do ar em kg/m\n",
    "v0 = 8  # velocidade inicial em m/s\n",
    "dt = 0.1  # intervalo de tempo em segundos\n",
    "t_final = 1  # tempo final em segundos\n",
    "\n",
    "projectile_velocity(m, g, k, v0, dt, t_final)"
   ]
  },
  {
   "cell_type": "markdown",
   "metadata": {},
   "source": [
    "### Questão 3: Crescimento Populacional\n",
    "Calcular a população estimada depois de 5 anos utilizando Runge-Kutta de ordem 4."
   ]
  },
  {
   "cell_type": "markdown",
   "metadata": {},
   "source": [
    "#### Código para Métodos de Runge-Kutta"
   ]
  },
  {
   "cell_type": "code",
   "execution_count": 23,
   "metadata": {},
   "outputs": [],
   "source": [
    "# Definindo a função f(t, P) que representa a taxa de variação dP/dt\n",
    "def dP_dt(P, b, k):\n",
    "    return b * P - k * P**2"
   ]
  },
  {
   "cell_type": "code",
   "execution_count": 24,
   "metadata": {},
   "outputs": [],
   "source": [
    "# Método de Runge-Kutta de quarta ordem\n",
    "def runge_kutta_4(P0, b, k, t_final, h):\n",
    "    t = 0\n",
    "    P = P0\n",
    "    \n",
    "    while t < t_final:\n",
    "        # Coeficientes de Runge-Kutta\n",
    "        k1 = h * dP_dt(P, b, k)\n",
    "        k2 = h * dP_dt(P + 0.5 * k1, b, k)\n",
    "        k3 = h * dP_dt(P + 0.5 * k2, b, k)\n",
    "        k4 = h * dP_dt(P + k3, b, k)\n",
    "        \n",
    "        # Atualiza a população\n",
    "        P += (k1 + 2*k2 + 2*k3 + k4) / 6\n",
    "        \n",
    "        # Atualiza o tempo\n",
    "        t += h\n",
    "    \n",
    "    return P"
   ]
  },
  {
   "cell_type": "code",
   "execution_count": 25,
   "metadata": {},
   "outputs": [],
   "source": [
    "# Parâmetros\n",
    "P0 = 50976  # População inicial\n",
    "b = 2.9e-2  # Taxa de nascimentos\n",
    "k = 1.4e-7  # Constante de mortalidade proporcional\n",
    "t_final = 5  # Tempo final em anos\n",
    "h = 0.1  # Passo de tempo"
   ]
  },
  {
   "cell_type": "code",
   "execution_count": 26,
   "metadata": {},
   "outputs": [
    {
     "name": "stdout",
     "output_type": "stream",
     "text": [
      "População estimada após 5 anos: 56870.60 indivíduos\n"
     ]
    }
   ],
   "source": [
    "# Calculando a população estimada após 5 anos\n",
    "P_estimada = runge_kutta_4(P0, b, k, t_final, h)\n",
    "print(f\"População estimada após {t_final} anos: {P_estimada:.2f} indivíduos\")"
   ]
  }
 ],
 "metadata": {
  "kernelspec": {
   "display_name": "base",
   "language": "python",
   "name": "python3"
  },
  "language_info": {
   "codemirror_mode": {
    "name": "ipython",
    "version": 3
   },
   "file_extension": ".py",
   "mimetype": "text/x-python",
   "name": "python",
   "nbconvert_exporter": "python",
   "pygments_lexer": "ipython3",
   "version": "3.12.4"
  }
 },
 "nbformat": 4,
 "nbformat_minor": 2
}
