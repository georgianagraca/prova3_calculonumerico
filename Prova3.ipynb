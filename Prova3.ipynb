{
 "cells": [
  {
   "cell_type": "markdown",
   "metadata": {},
   "source": [
    "# Resolução de Exercício de Avaliação \n",
    "\n",
    "Este notebook contém a resolução de três questões usando métodos numéricos em Python, abordando os seguintes tópicos:\n",
    "\n",
    "1. Método de Euler e Runge-Kutta de 3ª ordem.\n",
    "2. Movimento de um projétil com resistência do ar.\n",
    "3. Crescimento populacional usando a equação logística."
   ]
  },
  {
   "cell_type": "markdown",
   "metadata": {},
   "source": [
    "## Importação de Bibliotecas"
   ]
  },
  {
   "cell_type": "code",
   "execution_count": 8,
   "metadata": {},
   "outputs": [],
   "source": [
    "import math\n",
    "import numpy as np\n",
    "from tabulate import tabulate\n",
    "import matplotlib.pyplot as plt"
   ]
  },
  {
   "cell_type": "markdown",
   "metadata": {},
   "source": [
    "### Questão 1: Método de Euler e Runge-Kutta de 3ª Ordem\n",
    "Calcular o valor de y(1) usando os métodos de Euler e Runge-Kutta de 3ª ordem.\n",
    "E calcular o erro absoluto erro absoluto cometido na aproximação de y (1) usando os dois métodos. \n"
   ]
  },
  {
   "cell_type": "markdown",
   "metadata": {},
   "source": [
    "#### Código para Métodos de Euler e Runge-Kutta"
   ]
  },
  {
   "cell_type": "code",
   "execution_count": 9,
   "metadata": {},
   "outputs": [],
   "source": [
    "# Definindo a função diferencial de acordo com o PVI\n",
    "def f(x, y):\n",
    "    return (y**2 - 2*x) / y"
   ]
  },
  {
   "cell_type": "code",
   "execution_count": 10,
   "metadata": {},
   "outputs": [],
   "source": [
    "# Método de Euler\n",
    "def euler_method(f, x0, y0, h, n):\n",
    "    x, y = x0, y0\n",
    "    results = []\n",
    "    for i in range(n):\n",
    "        y += h * f(x, y)\n",
    "        x += h  \n",
    "        results.append([i+1, x, y])  # Guarda os valores de n, xn, yn\n",
    "    return results"
   ]
  },
  {
   "cell_type": "code",
   "execution_count": 11,
   "metadata": {},
   "outputs": [],
   "source": [
    "# Método de Runge-Kutta de 3ª ordem\n",
    "def runge_kutta_3rd_order(f, x0, y0, h, n):\n",
    "    x, y = x0, y0\n",
    "    results = []\n",
    "    for i in range(n):\n",
    "        k1 = h * f(x, y)\n",
    "        k2 = h * f(x + h / 2, y + k1 / 2)\n",
    "        k3 = h * f(x + h, y - k1 + 2 * k2)\n",
    "        y += (k1 + 4 * k2 + k3) / 6\n",
    "        x += h\n",
    "        results.append([i+1, x, k1, k2, k3, y])\n",
    "    return results\n"
   ]
  },
  {
   "cell_type": "code",
   "execution_count": 12,
   "metadata": {},
   "outputs": [],
   "source": [
    "#função exata \n",
    "def y_exact(x):\n",
    "    return math.sqrt(2 * x + 1)"
   ]
  },
  {
   "cell_type": "code",
   "execution_count": 13,
   "metadata": {},
   "outputs": [],
   "source": [
    "# Função para plotar o grafico de comparação \n",
    "def plot_numeric_vs_exact(results, y_exact, filename, col_x, col_y):\n",
    "    x_values = [row[col_x] for row in results]  # Valores de x\n",
    "    y_numeric_values = [row[col_y] for row in results]  # Valores de y aproximados (Método de Euler)\n",
    "    y_exact_values = [y_exact(x) for x in x_values]  # Valores de y exatos\n",
    "\n",
    "    # Plot das soluções\n",
    "    plt.plot(x_values, y_numeric_values, label=\"Solução Numérica\", marker='o', linestyle='--', color='blue', linewidth=2, alpha=0.8)\n",
    "    plt.plot(x_values, y_exact_values, label=\"Solução Exata\", marker='x', linestyle='-', color='red', linewidth=2.5, alpha=0.8)\n",
    "\n",
    "    # Configurações do gráfico\n",
    "    plt.xlabel(\"x\")\n",
    "    plt.ylabel(\"y\")\n",
    "    plt.legend()\n",
    "    plt.grid(True)\n",
    "\n",
    "    # Salva o gráfico em um arquivo\n",
    "    plt.savefig(filename)\n",
    "    print(f\"Gráfico salvo como '{filename}'\")\n",
    "    plt.show()\n"
   ]
  },
  {
   "cell_type": "code",
   "execution_count": 14,
   "metadata": {},
   "outputs": [],
   "source": [
    "# Parâmetros iniciais\n",
    "x0 = 0\n",
    "y0 = 1\n",
    "h = 0.2\n",
    "x_final = 1\n",
    "n = int((x_final - x0) / h)"
   ]
  },
  {
   "cell_type": "code",
   "execution_count": 15,
   "metadata": {},
   "outputs": [],
   "source": [
    "# Solução usando Método de Euler\n",
    "results = euler_method(f, x0, y0, h, n)"
   ]
  },
  {
   "cell_type": "code",
   "execution_count": 16,
   "metadata": {},
   "outputs": [],
   "source": [
    "#Adicionando o y exato e o erro na tabela\n",
    "for row in results:\n",
    "    xn = row[1]\n",
    "    yn = row[2]\n",
    "    y_exact_value = y_exact(xn)  # Calcula o valor exato de y para o xn\n",
    "    erro = abs(y_exact_value - yn)  # Calcula o erro\n",
    "    row.append(y_exact_value)  # Adiciona o y_exact na tabela\n",
    "    row.append(erro)  # Adiciona o erro na tabela"
   ]
  },
  {
   "cell_type": "code",
   "execution_count": 17,
   "metadata": {},
   "outputs": [
    {
     "name": "stdout",
     "output_type": "stream",
     "text": [
      "╒═════╤══════╤═════════╤═══════════╤═══════════╕\n",
      "│   n │   xn │      yn │   y_exact │      erro │\n",
      "╞═════╪══════╪═════════╪═══════════╪═══════════╡\n",
      "│   1 │  0.2 │ 1.2     │   1.18322 │ 0.016784  │\n",
      "├─────┼──────┼─────────┼───────────┼───────────┤\n",
      "│   2 │  0.4 │ 1.37333 │   1.34164 │ 0.0316925 │\n",
      "├─────┼──────┼─────────┼───────────┼───────────┤\n",
      "│   3 │  0.6 │ 1.5315  │   1.48324 │ 0.0482554 │\n",
      "├─────┼──────┼─────────┼───────────┼───────────┤\n",
      "│   4 │  0.8 │ 1.68108 │   1.61245 │ 0.068633  │\n",
      "├─────┼──────┼─────────┼───────────┼───────────┤\n",
      "│   5 │  1   │ 1.82695 │   1.73205 │ 0.0948974 │\n",
      "╘═════╧══════╧═════════╧═══════════╧═══════════╛\n"
     ]
    }
   ],
   "source": [
    "#printa tabela\n",
    "print(tabulate(results, headers=[\"n\", \"xn\", \"yn\", \"y_exact\", \"erro\"], tablefmt=\"fancy_grid\"))"
   ]
  },
  {
   "cell_type": "code",
   "execution_count": 18,
   "metadata": {},
   "outputs": [
    {
     "name": "stdout",
     "output_type": "stream",
     "text": [
      "Gráfico salvo como 'euler_grafico.png'\n"
     ]
    },
    {
     "data": {
      "image/png": "[encoded data removed]",
      "text/plain": [
       "<Figure size 640x480 with 1 Axes>"
      ]
     },
     "metadata": {},
     "output_type": "display_data"
    }
   ],
   "source": [
    "#plota grafico\n",
    "plot_numeric_vs_exact(results, y_exact, \"euler_grafico.png\", 1, 2)"
   ]
  },
  {
   "cell_type": "code",
   "execution_count": 19,
   "metadata": {},
   "outputs": [],
   "source": [
    "# Solução usando Runge-Kutta de 3ª ordem\n",
    "results = runge_kutta_3rd_order(f, x0, y0, h, n)"
   ]
  },
  {
   "cell_type": "code",
   "execution_count": 20,
   "metadata": {},
   "outputs": [],
   "source": [
    "for row in results:\n",
    "    xn = row[1]\n",
    "    yn = row[5]\n",
    "    y_exact_value = y_exact(xn)  # Calcula o valor exato de y para o xn\n",
    "    erro = abs(y_exact_value - yn)  # Calcula o erro\n",
    "    row.append(y_exact_value)  # Adiciona o y_exact na tabela\n",
    "    row.append(erro)  # Adiciona o erro na tabela"
   ]
  },
  {
   "cell_type": "code",
   "execution_count": 21,
   "metadata": {},
   "outputs": [],
   "source": [
    "# Solução exata para y(1)\n",
    "y_exact = math.sqrt(2 * 1 + 1)"
   ]
  },
  {
   "cell_type": "code",
   "execution_count": 22,
   "metadata": {},
   "outputs": [
    {
     "name": "stdout",
     "output_type": "stream",
     "text": [
      "╒═════╤══════╤══════════╤══════════╤══════════╤═════════╤═══════════╤═════════════╕\n",
      "│   n │   xn │       k1 │       k2 │       k3 │      yn │   y_exact │        erro │\n",
      "╞═════╪══════╪══════════╪══════════╪══════════╪═════════╪═══════════╪═════════════╡\n",
      "│   1 │  0.2 │ 0.2      │ 0.183636 │ 0.164919 │ 1.18324 │   1.18322 │ 2.80725e-05 │\n",
      "├─────┼──────┼──────────┼──────────┼──────────┼─────────┼───────────┼─────────────┤\n",
      "│   2 │  0.4 │ 0.169038 │ 0.158898 │ 0.14628  │ 1.34173 │   1.34164 │ 8.81012e-05 │\n",
      "├─────┼──────┼──────────┼──────────┼──────────┼─────────┼───────────┼─────────────┤\n",
      "│   3 │  0.6 │ 0.149097 │ 0.14204  │ 0.132819 │ 1.48341 │   1.48324 │ 0.000168622 │\n",
      "├─────┼──────┼──────────┼──────────┼──────────┼─────────┼───────────┼─────────────┤\n",
      "│   4 │  0.8 │ 0.134892 │ 0.129625 │ 0.122519 │ 1.61273 │   1.61245 │ 0.000275518 │\n",
      "├─────┼──────┼──────────┼──────────┼──────────┼─────────┼───────────┼─────────────┤\n",
      "│   5 │  1   │ 0.124124 │ 0.120005 │ 0.114324 │ 1.73247 │   1.73205 │ 0.000421026 │\n",
      "╘═════╧══════╧══════════╧══════════╧══════════╧═════════╧═══════════╧═════════════╛\n"
     ]
    }
   ],
   "source": [
    "#printa tabela\n",
    "print(tabulate(results, headers=[\"n\", \"xn\", \"k1\", \"k2\", \"k3\", \"yn\", \"y_exact\", \"erro\"], tablefmt=\"fancy_grid\"))"
   ]
  },
  {
   "cell_type": "code",
   "execution_count": 23,
   "metadata": {},
   "outputs": [
    {
     "ename": "TypeError",
     "evalue": "'float' object is not callable",
     "output_type": "error",
     "traceback": [
      "\u001b[0;31m---------------------------------------------------------------------------\u001b[0m",
      "\u001b[0;31mTypeError\u001b[0m                                 Traceback (most recent call last)",
      "Cell \u001b[0;32mIn[23], line 2\u001b[0m\n\u001b[1;32m      1\u001b[0m \u001b[38;5;66;03m#plota grafico\u001b[39;00m\n\u001b[0;32m----> 2\u001b[0m \u001b[43mplot_numeric_vs_exact\u001b[49m\u001b[43m(\u001b[49m\u001b[43mresults\u001b[49m\u001b[43m,\u001b[49m\u001b[43m \u001b[49m\u001b[43my_exact\u001b[49m\u001b[43m,\u001b[49m\u001b[43m \u001b[49m\u001b[38;5;124;43m\"\u001b[39;49m\u001b[38;5;124;43mhk3_grafico.png\u001b[39;49m\u001b[38;5;124;43m\"\u001b[39;49m\u001b[43m,\u001b[49m\u001b[43m \u001b[49m\u001b[38;5;241;43m1\u001b[39;49m\u001b[43m,\u001b[49m\u001b[43m \u001b[49m\u001b[38;5;241;43m5\u001b[39;49m\u001b[43m)\u001b[49m\n",
      "Cell \u001b[0;32mIn[13], line 5\u001b[0m, in \u001b[0;36mplot_numeric_vs_exact\u001b[0;34m(results, y_exact, filename, col_x, col_y)\u001b[0m\n\u001b[1;32m      3\u001b[0m x_values \u001b[38;5;241m=\u001b[39m [row[col_x] \u001b[38;5;28;01mfor\u001b[39;00m row \u001b[38;5;129;01min\u001b[39;00m results]  \u001b[38;5;66;03m# Valores de x\u001b[39;00m\n\u001b[1;32m      4\u001b[0m y_numeric_values \u001b[38;5;241m=\u001b[39m [row[col_y] \u001b[38;5;28;01mfor\u001b[39;00m row \u001b[38;5;129;01min\u001b[39;00m results]  \u001b[38;5;66;03m# Valores de y aproximados (Método de Euler)\u001b[39;00m\n\u001b[0;32m----> 5\u001b[0m y_exact_values \u001b[38;5;241m=\u001b[39m [\u001b[43my_exact\u001b[49m\u001b[43m(\u001b[49m\u001b[43mx\u001b[49m\u001b[43m)\u001b[49m \u001b[38;5;28;01mfor\u001b[39;00m x \u001b[38;5;129;01min\u001b[39;00m x_values]  \u001b[38;5;66;03m# Valores de y exatos\u001b[39;00m\n\u001b[1;32m      7\u001b[0m \u001b[38;5;66;03m# Plot das soluções\u001b[39;00m\n\u001b[1;32m      8\u001b[0m plt\u001b[38;5;241m.\u001b[39mplot(x_values, y_numeric_values, label\u001b[38;5;241m=\u001b[39m\u001b[38;5;124m\"\u001b[39m\u001b[38;5;124mSolução Numérica\u001b[39m\u001b[38;5;124m\"\u001b[39m, marker\u001b[38;5;241m=\u001b[39m\u001b[38;5;124m'\u001b[39m\u001b[38;5;124mo\u001b[39m\u001b[38;5;124m'\u001b[39m, linestyle\u001b[38;5;241m=\u001b[39m\u001b[38;5;124m'\u001b[39m\u001b[38;5;124m--\u001b[39m\u001b[38;5;124m'\u001b[39m, color\u001b[38;5;241m=\u001b[39m\u001b[38;5;124m'\u001b[39m\u001b[38;5;124mblue\u001b[39m\u001b[38;5;124m'\u001b[39m, linewidth\u001b[38;5;241m=\u001b[39m\u001b[38;5;241m2\u001b[39m, alpha\u001b[38;5;241m=\u001b[39m\u001b[38;5;241m0.8\u001b[39m)\n",
      "\u001b[0;31mTypeError\u001b[0m: 'float' object is not callable"
     ]
    }
   ],
   "source": [
    "#plota grafico\n",
    "plot_numeric_vs_exact(results, y_exact, \"hk3_grafico.png\", 1, 5)"
   ]
  },
  {
   "cell_type": "code",
   "execution_count": null,
   "metadata": {},
   "outputs": [],
   "source": [
    "\n",
    "# erro_euler = abs(y_exact - y_euler)\n",
    "# erro_rk3 = abs(y_exact - y_rk3)\n",
    "\n",
    "# print(f\"Valor de y(1) usando Método de Euler: {y_euler}\")\n",
    "# print(f\"Valor de y(1) usando Runge-Kutta de 3ª ordem: {y_rk3}\")\n",
    "# print(f\"Solução exata de y(1): {y_exact}\")\n",
    "# print(f\"Erro absoluto no Método de Euler: {erro_euler}\")\n",
    "# print(f\"Erro absoluto no Método de Runge-Kutta de 3ª ordem: {erro_rk3}\")"
   ]
  },
  {
   "cell_type": "markdown",
   "metadata": {},
   "source": [
    "### Questão 2: Movimento de um projétil\n",
    "Calcular a velocidade de um projétil considerando a resistência do ar e encontrar o tempo no qual o projétil começa a cair."
   ]
  },
  {
   "cell_type": "markdown",
   "metadata": {},
   "source": [
    "#### Código para Simulação do Movimento"
   ]
  },
  {
   "cell_type": "code",
   "execution_count": null,
   "metadata": {},
   "outputs": [],
   "source": [
    "def projectile_velocity(m, g, k, v0, dt, t_final):\n",
    "    t = 0\n",
    "    v = v0\n",
    "    while t <= t_final:\n",
    "        # dv é calculado de acordo com a equação diferencial dada\n",
    "        dv = (g - (k/m) * v * abs(v)) * dt\n",
    "        v += dv ## DÚVIDA SE É PRA SOMAR OU SUBTRAIR\n",
    "        t += dt\n",
    "        print(f\"Tempo: {t:.1f} s, Velocidade: {v:.4f} m/s\")\n",
    "        if v <= 0: ## DÚVIDA SE É < OU <=\n",
    "            print(f\"O projétil começa a cair após {t:.2f} segundos.\")\n",
    "            break"
   ]
  },
  {
   "cell_type": "code",
   "execution_count": null,
   "metadata": {},
   "outputs": [
    {
     "name": "stdout",
     "output_type": "stream",
     "text": [
      "Tempo: 0.1 s, Velocidade: 6.9036 m/s\n",
      "Tempo: 0.2 s, Velocidade: 5.8370 m/s\n",
      "Tempo: 0.3 s, Velocidade: 4.7950 m/s\n",
      "Tempo: 0.4 s, Velocidade: 3.7732 m/s\n",
      "Tempo: 0.5 s, Velocidade: 2.7673 m/s\n",
      "Tempo: 0.6 s, Velocidade: 1.7734 m/s\n",
      "Tempo: 0.7 s, Velocidade: 0.7877 m/s\n",
      "Tempo: 0.8 s, Velocidade: -0.1934 m/s\n",
      "O projétil começa a cair após 0.80 segundos.\n"
     ]
    }
   ],
   "source": [
    "# Parâmetros\n",
    "m = 0.11  # massa do projétil em kg\n",
    "g = -9.8  # aceleração da gravidade em m/s^2\n",
    "k = 0.002  # coeficiente de resistência do ar em kg/m\n",
    "v0 = 8  # velocidade inicial em m/s\n",
    "dt = 0.1  # intervalo de tempo em segundos\n",
    "t_final = 1  # tempo final em segundos\n",
    "\n",
    "projectile_velocity(m, g, k, v0, dt, t_final)"
   ]
  },
  {
   "cell_type": "markdown",
   "metadata": {},
   "source": [
    "### Questão 3: Crescimento Populacional\n",
    "Calcular a população estimada depois de 5 anos utilizando Runge-Kutta de ordem 4."
   ]
  },
  {
   "cell_type": "markdown",
   "metadata": {},
   "source": [
    "#### Código para Métodos de Runge-Kutta"
   ]
  },
  {
   "cell_type": "code",
   "execution_count": 24,
   "metadata": {},
   "outputs": [],
   "source": [
    "# Definindo a função f(t, P) que representa a taxa de variação dP/dt\n",
    "def dP_dt(P, b, k):\n",
    "    return b * P - k * P**2"
   ]
  },
  {
   "cell_type": "code",
   "execution_count": 31,
   "metadata": {},
   "outputs": [],
   "source": [
    "# Método de Runge-Kutta de quarta ordem\n",
    "def runge_kutta_4(P0, b, k, t_final, h):\n",
    "    t = 0\n",
    "    P = P0\n",
    "    results = []\n",
    "    cont = 0\n",
    "    while t < t_final:\n",
    "        # Coeficientes de Runge-Kutta\n",
    "        k1 = h * dP_dt(P, b, k)\n",
    "        k2 = h * dP_dt(P + 0.5 * k1, b, k)\n",
    "        k3 = h * dP_dt(P + 0.5 * k2, b, k)\n",
    "        k4 = h * dP_dt(P + k3, b, k)\n",
    "        \n",
    "        # Atualiza a população\n",
    "        P += (k1 + 2*k2 + 2*k3 + k4) / 6\n",
    "\n",
    "        cont = cont + 1\n",
    "\n",
    "        results.append([cont, t, k1, k2, k3, k4, P])\n",
    "        # Atualiza o tempo\n",
    "        t += h\n",
    "        \n",
    "\n",
    "        \n",
    "        \n",
    "    \n",
    "    return results"
   ]
  },
  {
   "cell_type": "code",
   "execution_count": 38,
   "metadata": {},
   "outputs": [],
   "source": [
    "# Parâmetros\n",
    "P0 = 50976  # População inicial\n",
    "b = 2.9e-2  # Taxa de nascimentos\n",
    "k = 1.4e-7  # Constante de mortalidade proporcional\n",
    "t_final = 5  # Tempo final em anos\n",
    "h = 0.1  # Passo de tempo"
   ]
  },
  {
   "cell_type": "code",
   "execution_count": 39,
   "metadata": {},
   "outputs": [
    {
     "name": "stdout",
     "output_type": "stream",
     "text": [
      "╒═════╤══════╤═════════╤═════════╤═════════╤═════════╤═════════╕\n",
      "│   n │   xn │      k1 │      k2 │      k3 │      k4 │      yn │\n",
      "╞═════╪══════╪═════════╪═════════╪═════════╪═════════╪═════════╡\n",
      "│   1 │  0.1 │ 111.451 │ 111.533 │ 111.533 │ 111.615 │ 51087.5 │\n",
      "├─────┼──────┼─────────┼─────────┼─────────┼─────────┼─────────┤\n",
      "│   2 │  0.2 │ 111.615 │ 111.697 │ 111.697 │ 111.779 │ 51199.2 │\n",
      "├─────┼──────┼─────────┼─────────┼─────────┼─────────┼─────────┤\n",
      "│   3 │  0.3 │ 111.779 │ 111.861 │ 111.861 │ 111.943 │ 51311.1 │\n",
      "├─────┼──────┼─────────┼─────────┼─────────┼─────────┼─────────┤\n",
      "│   4 │  0.4 │ 111.943 │ 112.024 │ 112.024 │ 112.106 │ 51423.1 │\n",
      "├─────┼──────┼─────────┼─────────┼─────────┼─────────┼─────────┤\n",
      "│   5 │  0.5 │ 112.106 │ 112.188 │ 112.188 │ 112.27  │ 51535.3 │\n",
      "├─────┼──────┼─────────┼─────────┼─────────┼─────────┼─────────┤\n",
      "│   6 │  0.6 │ 112.27  │ 112.352 │ 112.352 │ 112.433 │ 51647.7 │\n",
      "├─────┼──────┼─────────┼─────────┼─────────┼─────────┼─────────┤\n",
      "│   7 │  0.7 │ 112.433 │ 112.515 │ 112.515 │ 112.597 │ 51760.2 │\n",
      "├─────┼──────┼─────────┼─────────┼─────────┼─────────┼─────────┤\n",
      "│   8 │  0.8 │ 112.597 │ 112.679 │ 112.679 │ 112.76  │ 51872.8 │\n",
      "├─────┼──────┼─────────┼─────────┼─────────┼─────────┼─────────┤\n",
      "│   9 │  0.9 │ 112.76  │ 112.842 │ 112.842 │ 112.923 │ 51985.7 │\n",
      "├─────┼──────┼─────────┼─────────┼─────────┼─────────┼─────────┤\n",
      "│  10 │  1   │ 112.923 │ 113.005 │ 113.005 │ 113.086 │ 52098.7 │\n",
      "├─────┼──────┼─────────┼─────────┼─────────┼─────────┼─────────┤\n",
      "│  11 │  1.1 │ 113.086 │ 113.168 │ 113.168 │ 113.249 │ 52211.9 │\n",
      "├─────┼──────┼─────────┼─────────┼─────────┼─────────┼─────────┤\n",
      "│  12 │  1.2 │ 113.249 │ 113.331 │ 113.331 │ 113.412 │ 52325.2 │\n",
      "├─────┼──────┼─────────┼─────────┼─────────┼─────────┼─────────┤\n",
      "│  13 │  1.3 │ 113.412 │ 113.493 │ 113.493 │ 113.575 │ 52438.7 │\n",
      "├─────┼──────┼─────────┼─────────┼─────────┼─────────┼─────────┤\n",
      "│  14 │  1.4 │ 113.575 │ 113.656 │ 113.656 │ 113.737 │ 52552.3 │\n",
      "├─────┼──────┼─────────┼─────────┼─────────┼─────────┼─────────┤\n",
      "│  15 │  1.5 │ 113.737 │ 113.819 │ 113.819 │ 113.9   │ 52666.2 │\n",
      "├─────┼──────┼─────────┼─────────┼─────────┼─────────┼─────────┤\n",
      "│  16 │  1.6 │ 113.9   │ 113.981 │ 113.981 │ 114.062 │ 52780.1 │\n",
      "├─────┼──────┼─────────┼─────────┼─────────┼─────────┼─────────┤\n",
      "│  17 │  1.7 │ 114.062 │ 114.143 │ 114.143 │ 114.224 │ 52894.3 │\n",
      "├─────┼──────┼─────────┼─────────┼─────────┼─────────┼─────────┤\n",
      "│  18 │  1.8 │ 114.224 │ 114.305 │ 114.305 │ 114.386 │ 53008.6 │\n",
      "├─────┼──────┼─────────┼─────────┼─────────┼─────────┼─────────┤\n",
      "│  19 │  1.9 │ 114.386 │ 114.467 │ 114.467 │ 114.548 │ 53123.1 │\n",
      "├─────┼──────┼─────────┼─────────┼─────────┼─────────┼─────────┤\n",
      "│  20 │  2   │ 114.548 │ 114.629 │ 114.629 │ 114.71  │ 53237.7 │\n",
      "├─────┼──────┼─────────┼─────────┼─────────┼─────────┼─────────┤\n",
      "│  21 │  2.1 │ 114.71  │ 114.791 │ 114.791 │ 114.871 │ 53352.5 │\n",
      "├─────┼──────┼─────────┼─────────┼─────────┼─────────┼─────────┤\n",
      "│  22 │  2.2 │ 114.871 │ 114.952 │ 114.952 │ 115.033 │ 53467.4 │\n",
      "├─────┼──────┼─────────┼─────────┼─────────┼─────────┼─────────┤\n",
      "│  23 │  2.3 │ 115.033 │ 115.113 │ 115.114 │ 115.194 │ 53582.5 │\n",
      "├─────┼──────┼─────────┼─────────┼─────────┼─────────┼─────────┤\n",
      "│  24 │  2.4 │ 115.194 │ 115.275 │ 115.275 │ 115.355 │ 53697.8 │\n",
      "├─────┼──────┼─────────┼─────────┼─────────┼─────────┼─────────┤\n",
      "│  25 │  2.5 │ 115.355 │ 115.436 │ 115.436 │ 115.516 │ 53813.3 │\n",
      "├─────┼──────┼─────────┼─────────┼─────────┼─────────┼─────────┤\n",
      "│  26 │  2.6 │ 115.516 │ 115.597 │ 115.597 │ 115.677 │ 53928.8 │\n",
      "├─────┼──────┼─────────┼─────────┼─────────┼─────────┼─────────┤\n",
      "│  27 │  2.7 │ 115.677 │ 115.758 │ 115.758 │ 115.838 │ 54044.6 │\n",
      "├─────┼──────┼─────────┼─────────┼─────────┼─────────┼─────────┤\n",
      "│  28 │  2.8 │ 115.838 │ 115.918 │ 115.918 │ 115.998 │ 54160.5 │\n",
      "├─────┼──────┼─────────┼─────────┼─────────┼─────────┼─────────┤\n",
      "│  29 │  2.9 │ 115.998 │ 116.079 │ 116.079 │ 116.159 │ 54276.6 │\n",
      "├─────┼──────┼─────────┼─────────┼─────────┼─────────┼─────────┤\n",
      "│  30 │  3   │ 116.159 │ 116.239 │ 116.239 │ 116.319 │ 54392.8 │\n",
      "├─────┼──────┼─────────┼─────────┼─────────┼─────────┼─────────┤\n",
      "│  31 │  3.1 │ 116.319 │ 116.399 │ 116.399 │ 116.479 │ 54509.2 │\n",
      "├─────┼──────┼─────────┼─────────┼─────────┼─────────┼─────────┤\n",
      "│  32 │  3.2 │ 116.479 │ 116.559 │ 116.559 │ 116.639 │ 54625.8 │\n",
      "├─────┼──────┼─────────┼─────────┼─────────┼─────────┼─────────┤\n",
      "│  33 │  3.3 │ 116.639 │ 116.719 │ 116.719 │ 116.799 │ 54742.5 │\n",
      "├─────┼──────┼─────────┼─────────┼─────────┼─────────┼─────────┤\n",
      "│  34 │  3.4 │ 116.799 │ 116.879 │ 116.879 │ 116.959 │ 54859.4 │\n",
      "├─────┼──────┼─────────┼─────────┼─────────┼─────────┼─────────┤\n",
      "│  35 │  3.5 │ 116.959 │ 117.038 │ 117.038 │ 117.118 │ 54976.4 │\n",
      "├─────┼──────┼─────────┼─────────┼─────────┼─────────┼─────────┤\n",
      "│  36 │  3.6 │ 117.118 │ 117.198 │ 117.198 │ 117.277 │ 55093.6 │\n",
      "├─────┼──────┼─────────┼─────────┼─────────┼─────────┼─────────┤\n",
      "│  37 │  3.7 │ 117.277 │ 117.357 │ 117.357 │ 117.436 │ 55211   │\n",
      "├─────┼──────┼─────────┼─────────┼─────────┼─────────┼─────────┤\n",
      "│  38 │  3.8 │ 117.436 │ 117.516 │ 117.516 │ 117.595 │ 55328.5 │\n",
      "├─────┼──────┼─────────┼─────────┼─────────┼─────────┼─────────┤\n",
      "│  39 │  3.9 │ 117.595 │ 117.675 │ 117.675 │ 117.754 │ 55446.2 │\n",
      "├─────┼──────┼─────────┼─────────┼─────────┼─────────┼─────────┤\n",
      "│  40 │  4   │ 117.754 │ 117.833 │ 117.833 │ 117.913 │ 55564   │\n",
      "├─────┼──────┼─────────┼─────────┼─────────┼─────────┼─────────┤\n",
      "│  41 │  4.1 │ 117.913 │ 117.992 │ 117.992 │ 118.071 │ 55682   │\n",
      "├─────┼──────┼─────────┼─────────┼─────────┼─────────┼─────────┤\n",
      "│  42 │  4.2 │ 118.071 │ 118.15  │ 118.15  │ 118.229 │ 55800.2 │\n",
      "├─────┼──────┼─────────┼─────────┼─────────┼─────────┼─────────┤\n",
      "│  43 │  4.3 │ 118.229 │ 118.308 │ 118.308 │ 118.387 │ 55918.5 │\n",
      "├─────┼──────┼─────────┼─────────┼─────────┼─────────┼─────────┤\n",
      "│  44 │  4.4 │ 118.387 │ 118.466 │ 118.466 │ 118.545 │ 56036.9 │\n",
      "├─────┼──────┼─────────┼─────────┼─────────┼─────────┼─────────┤\n",
      "│  45 │  4.5 │ 118.545 │ 118.624 │ 118.624 │ 118.703 │ 56155.6 │\n",
      "├─────┼──────┼─────────┼─────────┼─────────┼─────────┼─────────┤\n",
      "│  46 │  4.6 │ 118.703 │ 118.782 │ 118.782 │ 118.86  │ 56274.3 │\n",
      "├─────┼──────┼─────────┼─────────┼─────────┼─────────┼─────────┤\n",
      "│  47 │  4.7 │ 118.86  │ 118.939 │ 118.939 │ 119.018 │ 56393.3 │\n",
      "├─────┼──────┼─────────┼─────────┼─────────┼─────────┼─────────┤\n",
      "│  48 │  4.8 │ 119.018 │ 119.096 │ 119.096 │ 119.175 │ 56512.4 │\n",
      "├─────┼──────┼─────────┼─────────┼─────────┼─────────┼─────────┤\n",
      "│  49 │  4.9 │ 119.175 │ 119.253 │ 119.253 │ 119.332 │ 56631.6 │\n",
      "├─────┼──────┼─────────┼─────────┼─────────┼─────────┼─────────┤\n",
      "│  50 │  5   │ 119.332 │ 119.41  │ 119.41  │ 119.488 │ 56751   │\n",
      "├─────┼──────┼─────────┼─────────┼─────────┼─────────┼─────────┤\n",
      "│  51 │  5.1 │ 119.488 │ 119.567 │ 119.567 │ 119.645 │ 56870.6 │\n",
      "╘═════╧══════╧═════════╧═════════╧═════════╧═════════╧═════════╛\n"
     ]
    }
   ],
   "source": [
    "# Calculando a população estimada após 5 anos\n",
    "results = runge_kutta_4(P0, b, k, t_final, h)\n",
    "print(tabulate(results, headers=[\"n\", \"xn\", \"k1\", \"k2\", \"k3\", \"k4\", \"yn\"], tablefmt=\"fancy_grid\"))"
   ]
  }
 ],
 "metadata": {
  "kernelspec": {
   "display_name": "base",
   "language": "python",
   "name": "python3"
  },
  "language_info": {
   "codemirror_mode": {
    "name": "ipython",
    "version": 3
   },
   "file_extension": ".py",
   "mimetype": "text/x-python",
   "name": "python",
   "nbconvert_exporter": "python",
   "pygments_lexer": "ipython3",
   "version": "3.12.3"
  }
 },
 "nbformat": 4,
 "nbformat_minor": 2
}
