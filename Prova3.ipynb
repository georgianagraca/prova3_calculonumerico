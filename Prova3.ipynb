{
 "cells": [
  {
   "cell_type": "markdown",
   "metadata": {},
   "source": [
    "# Resolução de Exercício de Avaliação \n",
    "\n",
    "Este notebook contém a resolução de três questões usando métodos numéricos em Python, abordando os seguintes tópicos:\n",
    "\n",
    "1. Método de Euler e Runge-Kutta de 3ª ordem.\n",
    "2. Movimento de um projétil com resistência do ar.\n",
    "3. Crescimento populacional usando a equação logística."
   ]
  },
  {
   "cell_type": "markdown",
   "metadata": {},
   "source": [
    "## Importação de Bibliotecas"
   ]
  },
  {
   "cell_type": "code",
   "execution_count": 35,
   "metadata": {},
   "outputs": [],
   "source": [
    "import math\n",
    "import numpy as np\n",
    "from tabulate import tabulate\n",
    "import matplotlib.pyplot as plt"
   ]
  },
  {
   "cell_type": "markdown",
   "metadata": {},
   "source": [
    "### Questão 1: Método de Euler e Runge-Kutta de 3ª Ordem\n",
    "Calcular o valor de y(1) usando os métodos de Euler e Runge-Kutta de 3ª ordem.\n",
    "E calcular o erro absoluto erro absoluto cometido na aproximação de y (1) usando os dois métodos. \n"
   ]
  },
  {
   "cell_type": "markdown",
   "metadata": {},
   "source": [
    "#### Código para Métodos de Euler e Runge-Kutta"
   ]
  },
  {
   "cell_type": "code",
   "execution_count": 36,
   "metadata": {},
   "outputs": [],
   "source": [
    "# Definindo a função diferencial de acordo com o PVI\n",
    "def f(x, y):\n",
    "    return (y**2 - 2*x) / y"
   ]
  },
  {
   "cell_type": "code",
   "execution_count": 37,
   "metadata": {},
   "outputs": [],
   "source": [
    "# Método de Euler\n",
    "def euler_method(f, x0, y0, h, n):\n",
    "    x, y = x0, y0\n",
    "    results = []\n",
    "    for i in range(n):\n",
    "        y += h * f(x, y)\n",
    "        x += h  \n",
    "        results.append([i+1, x, y])  # Guarda os valores de n, xn, yn\n",
    "    return results"
   ]
  },
  {
   "cell_type": "code",
   "execution_count": 38,
   "metadata": {},
   "outputs": [],
   "source": [
    "# Método de Runge-Kutta de 3ª ordem\n",
    "def runge_kutta_3rd_order(f, x0, y0, h, n):\n",
    "    x, y = x0, y0\n",
    "    results = []\n",
    "    for i in range(n):\n",
    "        k1 = h * f(x, y)\n",
    "        k2 = h * f(x + h / 2, y + k1 / 2)\n",
    "        k3 = h * f(x + h, y - k1 + 2 * k2)\n",
    "        y += (k1 + 4 * k2 + k3) / 6\n",
    "        x += h\n",
    "        results.append([i+1, x, k1, k2, k3, y])\n",
    "    return results\n"
   ]
  },
  {
   "cell_type": "code",
   "execution_count": 55,
   "metadata": {},
   "outputs": [],
   "source": [
    "#função exata \n",
    "def y_exact(x):\n",
    "    return math.sqrt(2 * x + 1)"
   ]
  },
  {
   "cell_type": "code",
   "execution_count": 41,
   "metadata": {},
   "outputs": [],
   "source": [
    "# Função para plotar o grafico de comparação \n",
    "def plot_numeric_vs_exact(results, y_exact, filename, col_x, col_y):\n",
    "    x_values = [row[col_x] for row in results]  # Valores de x\n",
    "    y_numeric_values = [row[col_y] for row in results]  # Valores de y aproximados (Método de Euler)\n",
    "    y_exact_values = [y_exact(x) for x in x_values]  # Valores de y exatos\n",
    "\n",
    "    # Plot das soluções\n",
    "    plt.plot(x_values, y_numeric_values, label=\"Solução Numérica\", marker='o', linestyle='--', color='blue', linewidth=2, alpha=0.8)\n",
    "    plt.plot(x_values, y_exact_values, label=\"Solução Exata\", marker='x', linestyle='-', color='red', linewidth=2.5, alpha=0.8)\n",
    "\n",
    "    # Configurações do gráfico\n",
    "    plt.xlabel(\"x\")\n",
    "    plt.ylabel(\"y\")\n",
    "    plt.legend()\n",
    "    plt.grid(True)\n",
    "\n",
    "    # Salva o gráfico em um arquivo\n",
    "    plt.savefig(filename)\n",
    "    print(f\"Gráfico salvo como '{filename}'\")\n",
    "    plt.show()\n"
   ]
  },
  {
   "cell_type": "code",
   "execution_count": 42,
   "metadata": {},
   "outputs": [],
   "source": [
    "# Parâmetros iniciais\n",
    "x0 = 0\n",
    "y0 = 1\n",
    "h = 0.2\n",
    "x_final = 1\n",
    "n = int((x_final - x0) / h)"
   ]
  },
  {
   "cell_type": "code",
   "execution_count": 43,
   "metadata": {},
   "outputs": [],
   "source": [
    "# Solução usando Método de Euler\n",
    "results = euler_method(f, x0, y0, h, n)"
   ]
  },
  {
   "cell_type": "code",
   "execution_count": 44,
   "metadata": {},
   "outputs": [],
   "source": [
    "#Adicionando o y exato e o erro na tabela\n",
    "for row in results:\n",
    "    xn = row[1]\n",
    "    yn = row[2]\n",
    "    y_exact_value = y_exact(xn)  # Calcula o valor exato de y para o xn\n",
    "    erro = abs(y_exact_value - yn)  # Calcula o erro\n",
    "    row.append(y_exact_value)  # Adiciona o y_exact na tabela\n",
    "    row.append(erro)  # Adiciona o erro na tabela"
   ]
  },
  {
   "cell_type": "code",
   "execution_count": 45,
   "metadata": {},
   "outputs": [
    {
     "name": "stdout",
     "output_type": "stream",
     "text": [
      "╒═════╤══════╤═════════╤═══════════╤═══════════╕\n",
      "│   n │   xn │      yn │   y_exact │      erro │\n",
      "╞═════╪══════╪═════════╪═══════════╪═══════════╡\n",
      "│   1 │  0.2 │ 1.2     │   1.18322 │ 0.016784  │\n",
      "├─────┼──────┼─────────┼───────────┼───────────┤\n",
      "│   2 │  0.4 │ 1.37333 │   1.34164 │ 0.0316925 │\n",
      "├─────┼──────┼─────────┼───────────┼───────────┤\n",
      "│   3 │  0.6 │ 1.5315  │   1.48324 │ 0.0482554 │\n",
      "├─────┼──────┼─────────┼───────────┼───────────┤\n",
      "│   4 │  0.8 │ 1.68108 │   1.61245 │ 0.068633  │\n",
      "├─────┼──────┼─────────┼───────────┼───────────┤\n",
      "│   5 │  1   │ 1.82695 │   1.73205 │ 0.0948974 │\n",
      "╘═════╧══════╧═════════╧═══════════╧═══════════╛\n"
     ]
    }
   ],
   "source": [
    "#printa tabela\n",
    "print(tabulate(results, headers=[\"n\", \"xn\", \"yn\", \"y_exact\", \"erro\"], tablefmt=\"fancy_grid\"))"
   ]
  },
  {
   "cell_type": "code",
   "execution_count": 48,
   "metadata": {},
   "outputs": [
    {
     "name": "stdout",
     "output_type": "stream",
     "text": [
      "Gráfico salvo como 'euler_grafico.png'\n"
     ]
    },
    {
     "data": {
      "image/png": "[encoded data removed]",
      "text/plain": [
       "<Figure size 640x480 with 1 Axes>"
      ]
     },
     "metadata": {},
     "output_type": "display_data"
    }
   ],
   "source": [
    "#plota grafico\n",
    "plot_numeric_vs_exact(results, y_exact, \"euler_grafico.png\", 1, 2)"
   ]
  },
  {
   "cell_type": "code",
   "execution_count": 50,
   "metadata": {},
   "outputs": [],
   "source": [
    "# Solução usando Runge-Kutta de 3ª ordem\n",
    "results = runge_kutta_3rd_order(f, x0, y0, h, n)"
   ]
  },
  {
   "cell_type": "code",
   "execution_count": 51,
   "metadata": {},
   "outputs": [],
   "source": [
    "for row in results:\n",
    "    xn = row[1]\n",
    "    yn = row[5]\n",
    "    y_exact_value = y_exact(xn)  # Calcula o valor exato de y para o xn\n",
    "    erro = abs(y_exact_value - yn)  # Calcula o erro\n",
    "    row.append(y_exact_value)  # Adiciona o y_exact na tabela\n",
    "    row.append(erro)  # Adiciona o erro na tabela"
   ]
  },
  {
   "cell_type": "code",
   "execution_count": 52,
   "metadata": {},
   "outputs": [],
   "source": [
    "# Solução exata para y(1)\n",
    "y_exact = math.sqrt(2 * 1 + 1)"
   ]
  },
  {
   "cell_type": "code",
   "execution_count": 53,
   "metadata": {},
   "outputs": [
    {
     "name": "stdout",
     "output_type": "stream",
     "text": [
      "╒═════╤══════╤══════════╤══════════╤══════════╤═════════╤═══════════╤═════════════╕\n",
      "│   n │   xn │       k1 │       k2 │       k3 │      yn │   y_exact │        erro │\n",
      "╞═════╪══════╪══════════╪══════════╪══════════╪═════════╪═══════════╪═════════════╡\n",
      "│   1 │  0.2 │ 0.2      │ 0.183636 │ 0.164919 │ 1.18324 │   1.18322 │ 2.80725e-05 │\n",
      "├─────┼──────┼──────────┼──────────┼──────────┼─────────┼───────────┼─────────────┤\n",
      "│   2 │  0.4 │ 0.169038 │ 0.158898 │ 0.14628  │ 1.34173 │   1.34164 │ 8.81012e-05 │\n",
      "├─────┼──────┼──────────┼──────────┼──────────┼─────────┼───────────┼─────────────┤\n",
      "│   3 │  0.6 │ 0.149097 │ 0.14204  │ 0.132819 │ 1.48341 │   1.48324 │ 0.000168622 │\n",
      "├─────┼──────┼──────────┼──────────┼──────────┼─────────┼───────────┼─────────────┤\n",
      "│   4 │  0.8 │ 0.134892 │ 0.129625 │ 0.122519 │ 1.61273 │   1.61245 │ 0.000275518 │\n",
      "├─────┼──────┼──────────┼──────────┼──────────┼─────────┼───────────┼─────────────┤\n",
      "│   5 │  1   │ 0.124124 │ 0.120005 │ 0.114324 │ 1.73247 │   1.73205 │ 0.000421026 │\n",
      "╘═════╧══════╧══════════╧══════════╧══════════╧═════════╧═══════════╧═════════════╛\n"
     ]
    }
   ],
   "source": [
    "#printa tabela\n",
    "print(tabulate(results, headers=[\"n\", \"xn\", \"k1\", \"k2\", \"k3\", \"yn\", \"y_exact\", \"erro\"], tablefmt=\"fancy_grid\"))"
   ]
  },
  {
   "cell_type": "code",
   "execution_count": 56,
   "metadata": {},
   "outputs": [
    {
     "name": "stdout",
     "output_type": "stream",
     "text": [
      "Gráfico salvo como 'hk3_grafico.png'\n"
     ]
    },
    {
     "data": {
      "image/png": "[encoded data removed]",
      "text/plain": [
       "<Figure size 640x480 with 1 Axes>"
      ]
     },
     "metadata": {},
     "output_type": "display_data"
    }
   ],
   "source": [
    "#plota grafico\n",
    "plot_numeric_vs_exact(results, y_exact, \"hk3_grafico.png\", 1, 5)"
   ]
  },
  {
   "cell_type": "code",
   "execution_count": 29,
   "metadata": {},
   "outputs": [
    {
     "ename": "NameError",
     "evalue": "name 'y_euler' is not defined",
     "output_type": "error",
     "traceback": [
      "\u001b[0;31m---------------------------------------------------------------------------\u001b[0m",
      "\u001b[0;31mNameError\u001b[0m                                 Traceback (most recent call last)",
      "Cell \u001b[0;32mIn[29], line 2\u001b[0m\n\u001b[1;32m      1\u001b[0m \u001b[38;5;66;03m# Calculando o erro absoluto\u001b[39;00m\n\u001b[0;32m----> 2\u001b[0m erro_euler \u001b[38;5;241m=\u001b[39m \u001b[38;5;28mabs\u001b[39m(y_exact \u001b[38;5;241m-\u001b[39m \u001b[43my_euler\u001b[49m)\n\u001b[1;32m      3\u001b[0m erro_rk3 \u001b[38;5;241m=\u001b[39m \u001b[38;5;28mabs\u001b[39m(y_exact \u001b[38;5;241m-\u001b[39m y_rk3)\n\u001b[1;32m      5\u001b[0m \u001b[38;5;28mprint\u001b[39m(\u001b[38;5;124mf\u001b[39m\u001b[38;5;124m\"\u001b[39m\u001b[38;5;124mValor de y(1) usando Método de Euler: \u001b[39m\u001b[38;5;132;01m{\u001b[39;00my_euler\u001b[38;5;132;01m}\u001b[39;00m\u001b[38;5;124m\"\u001b[39m)\n",
      "\u001b[0;31mNameError\u001b[0m: name 'y_euler' is not defined"
     ]
    }
   ],
   "source": [
    "# Calculando o erro absoluto\n",
    "erro_euler = abs(y_exact - y_euler)\n",
    "erro_rk3 = abs(y_exact - y_rk3)\n",
    "\n",
    "print(f\"Valor de y(1) usando Método de Euler: {y_euler}\")\n",
    "print(f\"Valor de y(1) usando Runge-Kutta de 3ª ordem: {y_rk3}\")\n",
    "print(f\"Solução exata de y(1): {y_exact}\")\n",
    "print(f\"Erro absoluto no Método de Euler: {erro_euler}\")\n",
    "print(f\"Erro absoluto no Método de Runge-Kutta de 3ª ordem: {erro_rk3}\")"
   ]
  },
  {
   "cell_type": "markdown",
   "metadata": {},
   "source": [
    "### Questão 2: Movimento de um projétil\n",
    "Calcular a velocidade de um projétil considerando a resistência do ar e encontrar o tempo no qual o projétil começa a cair."
   ]
  },
  {
   "cell_type": "markdown",
   "metadata": {},
   "source": [
    "#### Código para Simulação do Movimento"
   ]
  },
  {
   "cell_type": "code",
   "execution_count": null,
   "metadata": {},
   "outputs": [],
   "source": [
    "def projectile_velocity(m, g, k, v0, dt, t_final):\n",
    "    t = 0\n",
    "    v = v0\n",
    "    while t <= t_final:\n",
    "        # dv é calculado de acordo com a equação diferencial dada\n",
    "        dv = (g - (k/m) * v * abs(v)) * dt\n",
    "        v += dv ## DÚVIDA SE É PRA SOMAR OU SUBTRAIR\n",
    "        t += dt\n",
    "        print(f\"Tempo: {t:.1f} s, Velocidade: {v:.4f} m/s\")\n",
    "        if v <= 0: ## DÚVIDA SE É < OU <=\n",
    "            print(f\"O projétil começa a cair após {t:.2f} segundos.\")\n",
    "            break"
   ]
  },
  {
   "cell_type": "code",
   "execution_count": null,
   "metadata": {},
   "outputs": [
    {
     "name": "stdout",
     "output_type": "stream",
     "text": [
      "Tempo: 0.1 s, Velocidade: 6.9036 m/s\n",
      "Tempo: 0.2 s, Velocidade: 5.8370 m/s\n",
      "Tempo: 0.3 s, Velocidade: 4.7950 m/s\n",
      "Tempo: 0.4 s, Velocidade: 3.7732 m/s\n",
      "Tempo: 0.5 s, Velocidade: 2.7673 m/s\n",
      "Tempo: 0.6 s, Velocidade: 1.7734 m/s\n",
      "Tempo: 0.7 s, Velocidade: 0.7877 m/s\n",
      "Tempo: 0.8 s, Velocidade: -0.1934 m/s\n",
      "O projétil começa a cair após 0.80 segundos.\n"
     ]
    }
   ],
   "source": [
    "# Parâmetros\n",
    "m = 0.11  # massa do projétil em kg\n",
    "g = -9.8  # aceleração da gravidade em m/s^2\n",
    "k = 0.002  # coeficiente de resistência do ar em kg/m\n",
    "v0 = 8  # velocidade inicial em m/s\n",
    "dt = 0.1  # intervalo de tempo em segundos\n",
    "t_final = 1  # tempo final em segundos\n",
    "\n",
    "projectile_velocity(m, g, k, v0, dt, t_final)"
   ]
  },
  {
   "cell_type": "markdown",
   "metadata": {},
   "source": [
    "### Questão 3: Crescimento Populacional\n",
    "Calcular a população estimada depois de 5 anos utilizando Runge-Kutta de ordem 4."
   ]
  },
  {
   "cell_type": "markdown",
   "metadata": {},
   "source": [
    "#### Código para Métodos de Runge-Kutta"
   ]
  },
  {
   "cell_type": "code",
   "execution_count": null,
   "metadata": {},
   "outputs": [],
   "source": [
    "# Definindo a função f(t, P) que representa a taxa de variação dP/dt\n",
    "def dP_dt(P, b, k):\n",
    "    return b * P - k * P**2"
   ]
  },
  {
   "cell_type": "code",
   "execution_count": null,
   "metadata": {},
   "outputs": [],
   "source": [
    "# Método de Runge-Kutta de quarta ordem\n",
    "def runge_kutta_4(P0, b, k, t_final, h):\n",
    "    t = 0\n",
    "    P = P0\n",
    "    \n",
    "    while t < t_final:\n",
    "        # Coeficientes de Runge-Kutta\n",
    "        k1 = h * dP_dt(P, b, k)\n",
    "        k2 = h * dP_dt(P + 0.5 * k1, b, k)\n",
    "        k3 = h * dP_dt(P + 0.5 * k2, b, k)\n",
    "        k4 = h * dP_dt(P + k3, b, k)\n",
    "        \n",
    "        # Atualiza a população\n",
    "        P += (k1 + 2*k2 + 2*k3 + k4) / 6\n",
    "        \n",
    "        # Atualiza o tempo\n",
    "        t += h\n",
    "    \n",
    "    return P"
   ]
  },
  {
   "cell_type": "code",
   "execution_count": null,
   "metadata": {},
   "outputs": [],
   "source": [
    "# Parâmetros\n",
    "P0 = 50976  # População inicial\n",
    "b = 2.9e-2  # Taxa de nascimentos\n",
    "k = 1.4e-7  # Constante de mortalidade proporcional\n",
    "t_final = 5  # Tempo final em anos\n",
    "h = 0.1  # Passo de tempo"
   ]
  },
  {
   "cell_type": "code",
   "execution_count": null,
   "metadata": {},
   "outputs": [
    {
     "name": "stdout",
     "output_type": "stream",
     "text": [
      "População estimada após 5 anos: 56870.60 indivíduos\n"
     ]
    }
   ],
   "source": [
    "# Calculando a população estimada após 5 anos\n",
    "P_estimada = runge_kutta_4(P0, b, k, t_final, h)\n",
    "print(f\"População estimada após {t_final} anos: {P_estimada:.2f} indivíduos\")"
   ]
  }
 ],
 "metadata": {
  "kernelspec": {
   "display_name": "base",
   "language": "python",
   "name": "python3"
  },
  "language_info": {
   "codemirror_mode": {
    "name": "ipython",
    "version": 3
   },
   "file_extension": ".py",
   "mimetype": "text/x-python",
   "name": "python",
   "nbconvert_exporter": "python",
   "pygments_lexer": "ipython3",
   "version": "3.12.3"
  }
 },
 "nbformat": 4,
 "nbformat_minor": 2
}
